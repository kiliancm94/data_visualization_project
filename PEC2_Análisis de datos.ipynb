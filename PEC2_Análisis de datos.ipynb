{
 "cells": [
  {
   "cell_type": "markdown",
   "metadata": {},
   "source": [
    "# Análisis de los datos\n",
    "\n",
    "Este documento tiene cómo objetivo analizar el conjunto de datos extraído de la web https://www.peaceagreements.org/search dónde se recogen acuerdos de paz desde 1990 hasta el día de hoy. Los conjuntos de datos tienen una gran cantidad de metadatos. Este conjunto de datos es utilizado en la PEC2 de Visualización de Datos del máster de ciencia de datos."
   ]
  },
  {
   "cell_type": "code",
   "execution_count": 2,
   "metadata": {},
   "outputs": [],
   "source": [
    "import pandas as pd\n",
    "import numpy as np\n",
    "import seaborn as sns\n",
    "import matplotlib.pyplot as plt"
   ]
  },
  {
   "cell_type": "code",
   "execution_count": 3,
   "metadata": {},
   "outputs": [
    {
     "data": {
      "text/html": [
       "<div>\n",
       "<style scoped>\n",
       "    .dataframe tbody tr th:only-of-type {\n",
       "        vertical-align: middle;\n",
       "    }\n",
       "\n",
       "    .dataframe tbody tr th {\n",
       "        vertical-align: top;\n",
       "    }\n",
       "\n",
       "    .dataframe thead th {\n",
       "        text-align: right;\n",
       "    }\n",
       "</style>\n",
       "<table border=\"1\" class=\"dataframe\">\n",
       "  <thead>\n",
       "    <tr style=\"text-align: right;\">\n",
       "      <th></th>\n",
       "      <th>Con</th>\n",
       "      <th>Contp</th>\n",
       "      <th>PP</th>\n",
       "      <th>PPName</th>\n",
       "      <th>Reg</th>\n",
       "      <th>AgtId</th>\n",
       "      <th>Ver</th>\n",
       "      <th>Agt</th>\n",
       "      <th>Dat</th>\n",
       "      <th>Status</th>\n",
       "      <th>...</th>\n",
       "      <th>TjRep</th>\n",
       "      <th>TjRSym</th>\n",
       "      <th>TjRMa</th>\n",
       "      <th>TjNR</th>\n",
       "      <th>ImUN</th>\n",
       "      <th>ImOth</th>\n",
       "      <th>ImRef</th>\n",
       "      <th>ImPK</th>\n",
       "      <th>ImE</th>\n",
       "      <th>ImSrc</th>\n",
       "    </tr>\n",
       "  </thead>\n",
       "  <tbody>\n",
       "    <tr>\n",
       "      <th>0</th>\n",
       "      <td>Afghanistan</td>\n",
       "      <td>Government/territory</td>\n",
       "      <td>2</td>\n",
       "      <td>Afghanistan: 2000s Post-intervention process</td>\n",
       "      <td>Europe and Eurasia</td>\n",
       "      <td>2232</td>\n",
       "      <td>3</td>\n",
       "      <td>Resolution of Intra Afghan Peace Conference in...</td>\n",
       "      <td>2019-07-08</td>\n",
       "      <td>Multiparty signed/agreed</td>\n",
       "      <td>...</td>\n",
       "      <td>0</td>\n",
       "      <td>0</td>\n",
       "      <td>0</td>\n",
       "      <td>0</td>\n",
       "      <td>0</td>\n",
       "      <td>0</td>\n",
       "      <td>0</td>\n",
       "      <td>0</td>\n",
       "      <td>0</td>\n",
       "      <td>1</td>\n",
       "    </tr>\n",
       "    <tr>\n",
       "      <th>1</th>\n",
       "      <td>Afghanistan</td>\n",
       "      <td>Government</td>\n",
       "      <td>2</td>\n",
       "      <td>Afghanistan: 2000s Post-intervention process</td>\n",
       "      <td>Europe and Eurasia</td>\n",
       "      <td>1739</td>\n",
       "      <td>2</td>\n",
       "      <td>Agreement between the Islamic Republic of Afgh...</td>\n",
       "      <td>2016-09-22</td>\n",
       "      <td>Multiparty signed/agreed</td>\n",
       "      <td>...</td>\n",
       "      <td>0</td>\n",
       "      <td>0</td>\n",
       "      <td>0</td>\n",
       "      <td>0</td>\n",
       "      <td>0</td>\n",
       "      <td>0</td>\n",
       "      <td>0</td>\n",
       "      <td>0</td>\n",
       "      <td>1</td>\n",
       "      <td>1</td>\n",
       "    </tr>\n",
       "    <tr>\n",
       "      <th>2</th>\n",
       "      <td>Afghanistan</td>\n",
       "      <td>Government</td>\n",
       "      <td>2</td>\n",
       "      <td>Afghanistan: 2000s Post-intervention process</td>\n",
       "      <td>Europe and Eurasia</td>\n",
       "      <td>1923</td>\n",
       "      <td>2</td>\n",
       "      <td>Agreement between the two campaign teams regar...</td>\n",
       "      <td>2014-09-21</td>\n",
       "      <td>Multiparty signed/agreed</td>\n",
       "      <td>...</td>\n",
       "      <td>0</td>\n",
       "      <td>0</td>\n",
       "      <td>0</td>\n",
       "      <td>0</td>\n",
       "      <td>1</td>\n",
       "      <td>1</td>\n",
       "      <td>0</td>\n",
       "      <td>0</td>\n",
       "      <td>0</td>\n",
       "      <td>1</td>\n",
       "    </tr>\n",
       "    <tr>\n",
       "      <th>3</th>\n",
       "      <td>Afghanistan</td>\n",
       "      <td>Government</td>\n",
       "      <td>2</td>\n",
       "      <td>Afghanistan: 2000s Post-intervention process</td>\n",
       "      <td>Europe and Eurasia</td>\n",
       "      <td>864</td>\n",
       "      <td>1</td>\n",
       "      <td>Tokyo Declaration Partnership for Self-Relianc...</td>\n",
       "      <td>2012-07-08</td>\n",
       "      <td>Multiparty signed/agreed</td>\n",
       "      <td>...</td>\n",
       "      <td>0</td>\n",
       "      <td>0</td>\n",
       "      <td>0</td>\n",
       "      <td>1</td>\n",
       "      <td>0</td>\n",
       "      <td>0</td>\n",
       "      <td>0</td>\n",
       "      <td>0</td>\n",
       "      <td>1</td>\n",
       "      <td>1</td>\n",
       "    </tr>\n",
       "    <tr>\n",
       "      <th>4</th>\n",
       "      <td>Afghanistan</td>\n",
       "      <td>Government</td>\n",
       "      <td>2</td>\n",
       "      <td>Afghanistan: 2000s Post-intervention process</td>\n",
       "      <td>Europe and Eurasia</td>\n",
       "      <td>848</td>\n",
       "      <td>1</td>\n",
       "      <td>Conclusions of the Conference on Afghanistan a...</td>\n",
       "      <td>2011-12-05</td>\n",
       "      <td>Multiparty signed/agreed</td>\n",
       "      <td>...</td>\n",
       "      <td>0</td>\n",
       "      <td>0</td>\n",
       "      <td>0</td>\n",
       "      <td>1</td>\n",
       "      <td>1</td>\n",
       "      <td>0</td>\n",
       "      <td>0</td>\n",
       "      <td>0</td>\n",
       "      <td>0</td>\n",
       "      <td>1</td>\n",
       "    </tr>\n",
       "  </tbody>\n",
       "</table>\n",
       "<p>5 rows × 266 columns</p>\n",
       "</div>"
      ],
      "text/plain": [
       "           Con                 Contp  PP  \\\n",
       "0  Afghanistan  Government/territory   2   \n",
       "1  Afghanistan            Government   2   \n",
       "2  Afghanistan            Government   2   \n",
       "3  Afghanistan            Government   2   \n",
       "4  Afghanistan            Government   2   \n",
       "\n",
       "                                         PPName                 Reg  AgtId  \\\n",
       "0  Afghanistan: 2000s Post-intervention process  Europe and Eurasia   2232   \n",
       "1  Afghanistan: 2000s Post-intervention process  Europe and Eurasia   1739   \n",
       "2  Afghanistan: 2000s Post-intervention process  Europe and Eurasia   1923   \n",
       "3  Afghanistan: 2000s Post-intervention process  Europe and Eurasia    864   \n",
       "4  Afghanistan: 2000s Post-intervention process  Europe and Eurasia    848   \n",
       "\n",
       "   Ver                                                Agt         Dat  \\\n",
       "0    3  Resolution of Intra Afghan Peace Conference in...  2019-07-08   \n",
       "1    2  Agreement between the Islamic Republic of Afgh...  2016-09-22   \n",
       "2    2  Agreement between the two campaign teams regar...  2014-09-21   \n",
       "3    1  Tokyo Declaration Partnership for Self-Relianc...  2012-07-08   \n",
       "4    1  Conclusions of the Conference on Afghanistan a...  2011-12-05   \n",
       "\n",
       "                     Status  ...  TjRep  TjRSym TjRMa TjNR ImUN ImOth ImRef  \\\n",
       "0  Multiparty signed/agreed  ...      0       0     0    0    0     0     0   \n",
       "1  Multiparty signed/agreed  ...      0       0     0    0    0     0     0   \n",
       "2  Multiparty signed/agreed  ...      0       0     0    0    1     1     0   \n",
       "3  Multiparty signed/agreed  ...      0       0     0    1    0     0     0   \n",
       "4  Multiparty signed/agreed  ...      0       0     0    1    1     0     0   \n",
       "\n",
       "  ImPK ImE ImSrc  \n",
       "0    0   0     1  \n",
       "1    0   1     1  \n",
       "2    0   0     1  \n",
       "3    0   1     1  \n",
       "4    0   0     1  \n",
       "\n",
       "[5 rows x 266 columns]"
      ]
     },
     "execution_count": 3,
     "metadata": {},
     "output_type": "execute_result"
    }
   ],
   "source": [
    "df = pd.read_csv('pax_data_1868_agreements_09-11-20.csv')\n",
    "df.head()"
   ]
  },
  {
   "cell_type": "markdown",
   "metadata": {},
   "source": [
    "Veamos las dimensiones del conjunto de datos."
   ]
  },
  {
   "cell_type": "code",
   "execution_count": 4,
   "metadata": {},
   "outputs": [
    {
     "data": {
      "text/plain": [
       "(1868, 266)"
      ]
     },
     "execution_count": 4,
     "metadata": {},
     "output_type": "execute_result"
    }
   ],
   "source": [
    "df.shape"
   ]
  },
  {
   "cell_type": "markdown",
   "metadata": {},
   "source": [
    "El conjunto de datos contiene 266 atributos o metadatos para cada acuerdo de paz firmado. Debdio a la gran dimensionalidad no se va a entrar en el detalle del análisis de su significado. Se realizará la explicación de los datos cuando sea necesario analizar alguna variable. Si desea encontar más información acerca de los atributos consulte el siguiente [codebook](https://www.peaceagreements.org/files/PA-X%20codebook%20Version4.pdf).\n",
    "\n",
    "Voy a describir los datos para analizar que tipos de variables disponemos."
   ]
  },
  {
   "cell_type": "code",
   "execution_count": 5,
   "metadata": {},
   "outputs": [
    {
     "data": {
      "text/html": [
       "<div>\n",
       "<style scoped>\n",
       "    .dataframe tbody tr th:only-of-type {\n",
       "        vertical-align: middle;\n",
       "    }\n",
       "\n",
       "    .dataframe tbody tr th {\n",
       "        vertical-align: top;\n",
       "    }\n",
       "\n",
       "    .dataframe thead th {\n",
       "        text-align: right;\n",
       "    }\n",
       "</style>\n",
       "<table border=\"1\" class=\"dataframe\">\n",
       "  <thead>\n",
       "    <tr style=\"text-align: right;\">\n",
       "      <th></th>\n",
       "      <th>PP</th>\n",
       "      <th>AgtId</th>\n",
       "      <th>Ver</th>\n",
       "      <th>Lgt</th>\n",
       "      <th>N_characters</th>\n",
       "      <th>Loc1GWNO</th>\n",
       "      <th>Loc2GWNO</th>\n",
       "      <th>UcdpAgr</th>\n",
       "      <th>PamAgr</th>\n",
       "      <th>CowWar</th>\n",
       "      <th>...</th>\n",
       "      <th>TjRep</th>\n",
       "      <th>TjRSym</th>\n",
       "      <th>TjRMa</th>\n",
       "      <th>TjNR</th>\n",
       "      <th>ImUN</th>\n",
       "      <th>ImOth</th>\n",
       "      <th>ImRef</th>\n",
       "      <th>ImPK</th>\n",
       "      <th>ImE</th>\n",
       "      <th>ImSrc</th>\n",
       "    </tr>\n",
       "  </thead>\n",
       "  <tbody>\n",
       "    <tr>\n",
       "      <th>count</th>\n",
       "      <td>1868.000000</td>\n",
       "      <td>1868.000000</td>\n",
       "      <td>1868.000000</td>\n",
       "      <td>1868.000000</td>\n",
       "      <td>1868.000000</td>\n",
       "      <td>1857.000000</td>\n",
       "      <td>246.000000</td>\n",
       "      <td>2.970000e+02</td>\n",
       "      <td>33.000000</td>\n",
       "      <td>1115.000000</td>\n",
       "      <td>...</td>\n",
       "      <td>1868.000000</td>\n",
       "      <td>1868.000000</td>\n",
       "      <td>1868.000000</td>\n",
       "      <td>1868.000000</td>\n",
       "      <td>1868.000000</td>\n",
       "      <td>1868.000000</td>\n",
       "      <td>1868.000000</td>\n",
       "      <td>1868.000000</td>\n",
       "      <td>1868.000000</td>\n",
       "      <td>1868.0</td>\n",
       "    </tr>\n",
       "    <tr>\n",
       "      <th>mean</th>\n",
       "      <td>84.870450</td>\n",
       "      <td>1155.105996</td>\n",
       "      <td>1.249465</td>\n",
       "      <td>6.274625</td>\n",
       "      <td>11951.505353</td>\n",
       "      <td>528.693592</td>\n",
       "      <td>439.719512</td>\n",
       "      <td>2.903701e+10</td>\n",
       "      <td>17.272727</td>\n",
       "      <td>759.324664</td>\n",
       "      <td>...</td>\n",
       "      <td>0.177195</td>\n",
       "      <td>0.011242</td>\n",
       "      <td>0.102248</td>\n",
       "      <td>0.300321</td>\n",
       "      <td>0.193790</td>\n",
       "      <td>0.238758</td>\n",
       "      <td>0.009636</td>\n",
       "      <td>0.291756</td>\n",
       "      <td>0.383833</td>\n",
       "      <td>1.0</td>\n",
       "    </tr>\n",
       "    <tr>\n",
       "      <th>std</th>\n",
       "      <td>42.273883</td>\n",
       "      <td>663.722169</td>\n",
       "      <td>0.590838</td>\n",
       "      <td>17.194469</td>\n",
       "      <td>37644.455332</td>\n",
       "      <td>223.469441</td>\n",
       "      <td>195.075032</td>\n",
       "      <td>3.602522e+11</td>\n",
       "      <td>10.022702</td>\n",
       "      <td>254.762977</td>\n",
       "      <td>...</td>\n",
       "      <td>0.553679</td>\n",
       "      <td>0.105459</td>\n",
       "      <td>0.303056</td>\n",
       "      <td>0.608157</td>\n",
       "      <td>0.395372</td>\n",
       "      <td>0.426439</td>\n",
       "      <td>0.097715</td>\n",
       "      <td>0.454692</td>\n",
       "      <td>0.486448</td>\n",
       "      <td>0.0</td>\n",
       "    </tr>\n",
       "    <tr>\n",
       "      <th>min</th>\n",
       "      <td>1.000000</td>\n",
       "      <td>1.000000</td>\n",
       "      <td>1.000000</td>\n",
       "      <td>1.000000</td>\n",
       "      <td>329.000000</td>\n",
       "      <td>41.000000</td>\n",
       "      <td>2.000000</td>\n",
       "      <td>2.400000e+01</td>\n",
       "      <td>1.000000</td>\n",
       "      <td>139.000000</td>\n",
       "      <td>...</td>\n",
       "      <td>0.000000</td>\n",
       "      <td>0.000000</td>\n",
       "      <td>0.000000</td>\n",
       "      <td>0.000000</td>\n",
       "      <td>0.000000</td>\n",
       "      <td>0.000000</td>\n",
       "      <td>0.000000</td>\n",
       "      <td>0.000000</td>\n",
       "      <td>0.000000</td>\n",
       "      <td>1.0</td>\n",
       "    </tr>\n",
       "    <tr>\n",
       "      <th>25%</th>\n",
       "      <td>55.000000</td>\n",
       "      <td>568.750000</td>\n",
       "      <td>1.000000</td>\n",
       "      <td>1.000000</td>\n",
       "      <td>2397.250000</td>\n",
       "      <td>365.000000</td>\n",
       "      <td>346.250000</td>\n",
       "      <td>1.107000e+03</td>\n",
       "      <td>9.000000</td>\n",
       "      <td>817.000000</td>\n",
       "      <td>...</td>\n",
       "      <td>0.000000</td>\n",
       "      <td>0.000000</td>\n",
       "      <td>0.000000</td>\n",
       "      <td>0.000000</td>\n",
       "      <td>0.000000</td>\n",
       "      <td>0.000000</td>\n",
       "      <td>0.000000</td>\n",
       "      <td>0.000000</td>\n",
       "      <td>0.000000</td>\n",
       "      <td>1.0</td>\n",
       "    </tr>\n",
       "    <tr>\n",
       "      <th>50%</th>\n",
       "      <td>90.000000</td>\n",
       "      <td>1135.500000</td>\n",
       "      <td>1.000000</td>\n",
       "      <td>2.000000</td>\n",
       "      <td>4354.000000</td>\n",
       "      <td>531.000000</td>\n",
       "      <td>371.000000</td>\n",
       "      <td>1.334000e+03</td>\n",
       "      <td>17.000000</td>\n",
       "      <td>857.000000</td>\n",
       "      <td>...</td>\n",
       "      <td>0.000000</td>\n",
       "      <td>0.000000</td>\n",
       "      <td>0.000000</td>\n",
       "      <td>0.000000</td>\n",
       "      <td>0.000000</td>\n",
       "      <td>0.000000</td>\n",
       "      <td>0.000000</td>\n",
       "      <td>0.000000</td>\n",
       "      <td>0.000000</td>\n",
       "      <td>1.0</td>\n",
       "    </tr>\n",
       "    <tr>\n",
       "      <th>75%</th>\n",
       "      <td>123.000000</td>\n",
       "      <td>1736.250000</td>\n",
       "      <td>1.000000</td>\n",
       "      <td>5.000000</td>\n",
       "      <td>9420.500000</td>\n",
       "      <td>678.000000</td>\n",
       "      <td>625.000000</td>\n",
       "      <td>1.523000e+03</td>\n",
       "      <td>26.000000</td>\n",
       "      <td>905.000000</td>\n",
       "      <td>...</td>\n",
       "      <td>0.000000</td>\n",
       "      <td>0.000000</td>\n",
       "      <td>0.000000</td>\n",
       "      <td>0.000000</td>\n",
       "      <td>0.000000</td>\n",
       "      <td>0.000000</td>\n",
       "      <td>0.000000</td>\n",
       "      <td>1.000000</td>\n",
       "      <td>1.000000</td>\n",
       "      <td>1.0</td>\n",
       "    </tr>\n",
       "    <tr>\n",
       "      <th>max</th>\n",
       "      <td>160.000000</td>\n",
       "      <td>2317.000000</td>\n",
       "      <td>4.000000</td>\n",
       "      <td>323.000000</td>\n",
       "      <td>908459.000000</td>\n",
       "      <td>940.000000</td>\n",
       "      <td>770.000000</td>\n",
       "      <td>5.171991e+12</td>\n",
       "      <td>34.000000</td>\n",
       "      <td>941.000000</td>\n",
       "      <td>...</td>\n",
       "      <td>3.000000</td>\n",
       "      <td>1.000000</td>\n",
       "      <td>1.000000</td>\n",
       "      <td>3.000000</td>\n",
       "      <td>1.000000</td>\n",
       "      <td>1.000000</td>\n",
       "      <td>1.000000</td>\n",
       "      <td>1.000000</td>\n",
       "      <td>1.000000</td>\n",
       "      <td>1.0</td>\n",
       "    </tr>\n",
       "  </tbody>\n",
       "</table>\n",
       "<p>8 rows × 250 columns</p>\n",
       "</div>"
      ],
      "text/plain": [
       "                PP        AgtId          Ver          Lgt   N_characters  \\\n",
       "count  1868.000000  1868.000000  1868.000000  1868.000000    1868.000000   \n",
       "mean     84.870450  1155.105996     1.249465     6.274625   11951.505353   \n",
       "std      42.273883   663.722169     0.590838    17.194469   37644.455332   \n",
       "min       1.000000     1.000000     1.000000     1.000000     329.000000   \n",
       "25%      55.000000   568.750000     1.000000     1.000000    2397.250000   \n",
       "50%      90.000000  1135.500000     1.000000     2.000000    4354.000000   \n",
       "75%     123.000000  1736.250000     1.000000     5.000000    9420.500000   \n",
       "max     160.000000  2317.000000     4.000000   323.000000  908459.000000   \n",
       "\n",
       "          Loc1GWNO    Loc2GWNO       UcdpAgr     PamAgr       CowWar  ...  \\\n",
       "count  1857.000000  246.000000  2.970000e+02  33.000000  1115.000000  ...   \n",
       "mean    528.693592  439.719512  2.903701e+10  17.272727   759.324664  ...   \n",
       "std     223.469441  195.075032  3.602522e+11  10.022702   254.762977  ...   \n",
       "min      41.000000    2.000000  2.400000e+01   1.000000   139.000000  ...   \n",
       "25%     365.000000  346.250000  1.107000e+03   9.000000   817.000000  ...   \n",
       "50%     531.000000  371.000000  1.334000e+03  17.000000   857.000000  ...   \n",
       "75%     678.000000  625.000000  1.523000e+03  26.000000   905.000000  ...   \n",
       "max     940.000000  770.000000  5.171991e+12  34.000000   941.000000  ...   \n",
       "\n",
       "             TjRep       TjRSym        TjRMa         TjNR         ImUN  \\\n",
       "count  1868.000000  1868.000000  1868.000000  1868.000000  1868.000000   \n",
       "mean      0.177195     0.011242     0.102248     0.300321     0.193790   \n",
       "std       0.553679     0.105459     0.303056     0.608157     0.395372   \n",
       "min       0.000000     0.000000     0.000000     0.000000     0.000000   \n",
       "25%       0.000000     0.000000     0.000000     0.000000     0.000000   \n",
       "50%       0.000000     0.000000     0.000000     0.000000     0.000000   \n",
       "75%       0.000000     0.000000     0.000000     0.000000     0.000000   \n",
       "max       3.000000     1.000000     1.000000     3.000000     1.000000   \n",
       "\n",
       "             ImOth        ImRef         ImPK          ImE   ImSrc  \n",
       "count  1868.000000  1868.000000  1868.000000  1868.000000  1868.0  \n",
       "mean      0.238758     0.009636     0.291756     0.383833     1.0  \n",
       "std       0.426439     0.097715     0.454692     0.486448     0.0  \n",
       "min       0.000000     0.000000     0.000000     0.000000     1.0  \n",
       "25%       0.000000     0.000000     0.000000     0.000000     1.0  \n",
       "50%       0.000000     0.000000     0.000000     0.000000     1.0  \n",
       "75%       0.000000     0.000000     1.000000     1.000000     1.0  \n",
       "max       1.000000     1.000000     1.000000     1.000000     1.0  \n",
       "\n",
       "[8 rows x 250 columns]"
      ]
     },
     "execution_count": 5,
     "metadata": {},
     "output_type": "execute_result"
    }
   ],
   "source": [
    "df.describe()"
   ]
  },
  {
   "cell_type": "markdown",
   "metadata": {},
   "source": [
    "Voy a realizar le explicación de algunas variables que resultan interesantes para su estudio según el codebook citado anteriormente (para todas las variables dónde no se indica el tipo de variable se entiende que son texto):\n",
    "\n",
    " - Con: Es el país o jurisdicción dónde se ha generado el conflicto (no siempre coincidirá con el real).\n",
    " - Contp: Es el tipo de acuerdo y está categorizado cómo Goverment, Territory, Goverment/Territory, Inter-group o Other. \n",
    " - PP_name: Nombre del proceso de paz.\n",
    " - PP: Código del proceso de paz.\n",
    " - Reg: Lista de regiones dónde el acuerdo tiene lugar.\n",
    " - AgtId: Identificador único del acuerdo.\n",
    " - Ver: Versión del PAX usado.\n",
    " - Agt: Nombre del acuerdo\n",
    " - Dat: Date Signed\n",
    " - Status: Estado del acuerdo, para más información visitar el codebook.\n",
    " - Lgt: Longitud del acuerdo (páginas) (entero)\n",
    " - N_characters: Número de carácteres en el acuerdo (entero)\n",
    " - Agtp: El tipo de conflicto.\n",
    " - Stage: Estado del conflicto en el cual se firma el contrato.\n",
    " - StageSub: Subcategoría de la variable Stage por si se necesita más granuralidad.\n",
    " - Part: Las partes firmantes del acuerdo copiado tal y cómo se muestra.\n",
    " - ThrdPart: Firmantes que se consideran terceras partes.\n",
    " - OthAgr: Si el acuerdo menciona otro acuerdos.\n",
    " - Loc1ISO: Código ISO de una de las dos principales localizaciones dónde se ha dado el conflicto.\n",
    " - Loc2ISO: Código ISO de una de las dos principales localizaciones dónde se ha dado el conflicto.\n",
    " - Loc1GWNO: Código Gleditsch-Ward.\n",
    " - Loc2GWNO: Código Gleditsch-Ward.\n",
    " - UcdpCon: Uppsala Conflict Data Program Conflict ID.\n",
    " - UcdpAgr: Uppsala Conflict Data Program peace agreement ID.\n",
    " - PamAgr: Kroc Institute’s Peace Accords Matrix agreement ID.\n",
    " - CowWar: Correlates of War: War Number.\n",
    "\n",
    "Todas las demás variables son dictonómicas y se analizarán dependiendo del interés de la investigación con los datos.\n",
    "\n"
   ]
  },
  {
   "cell_type": "code",
   "execution_count": 6,
   "metadata": {},
   "outputs": [],
   "source": [
    "previous = df.memory_usage(deep=True)"
   ]
  },
  {
   "cell_type": "code",
   "execution_count": 7,
   "metadata": {},
   "outputs": [
    {
     "data": {
      "text/plain": [
       "Con         object\n",
       "Contp       object\n",
       "PP          object\n",
       "PPName      object\n",
       "Reg         object\n",
       "            ...   \n",
       "ImOth     category\n",
       "ImRef     category\n",
       "ImPK      category\n",
       "ImE       category\n",
       "ImSrc     category\n",
       "Length: 266, dtype: object"
      ]
     },
     "execution_count": 7,
     "metadata": {},
     "output_type": "execute_result"
    }
   ],
   "source": [
    "# convertimos a categóricas todas las variables que son dictonómicas.\n",
    "columns = ['Con', 'Contp',  'PPName', 'PP', 'Reg', 'AgtId', 'Ver', 'Agt', 'Dat',\n",
    "           'Status', 'Lgt', 'N_characters', 'Agtp', 'Stage', 'StageSub', 'Part',\n",
    "           'ThrdPart', 'OthAgr', 'Loc1ISO', 'Loc2ISO', 'Loc1GWNO', 'Loc2GWNO',\n",
    "            'UcdpCon', 'UcdpAgr', 'PamAgr', 'CowWar']\n",
    "\n",
    "mapping_type = {column: 'category' for column in df.columns if column not in columns}\n",
    "mapping_type.update({'Lgt': 'int', 'N_characters': 'int'})\n",
    "mapping_type.update({column: 'str' for column in columns if column not in mapping_type})\n",
    "\n",
    "df = df.astype(mapping_type)\n",
    "df.dtypes"
   ]
  },
  {
   "cell_type": "markdown",
   "metadata": {},
   "source": [
    "Ahora todas las variables tienen sus tipos asignados y por lo tanto se mejora la eficiencia del uso del dataframe."
   ]
  },
  {
   "cell_type": "code",
   "execution_count": 8,
   "metadata": {},
   "outputs": [
    {
     "data": {
      "text/plain": [
       "Index     1.000000\n",
       "Con       1.000000\n",
       "Contp     1.000000\n",
       "PP        7.414815\n",
       "PPName    1.000000\n",
       "            ...   \n",
       "ImOth     0.131424\n",
       "ImRef     0.131424\n",
       "ImPK      0.131424\n",
       "ImE       0.131424\n",
       "ImSrc     0.130889\n",
       "Length: 267, dtype: float64"
      ]
     },
     "execution_count": 8,
     "metadata": {},
     "output_type": "execute_result"
    }
   ],
   "source": [
    "df.memory_usage(deep=True)/previous"
   ]
  },
  {
   "cell_type": "markdown",
   "metadata": {},
   "source": [
    "A continuación, voy a intentar responder algunas preguntas para extraer información del conjunto de datos.\n",
    "\n",
    "\n",
    "¿Cuáles son los 10 países dónde más conlfictos se han generado?"
   ]
  },
  {
   "cell_type": "code",
   "execution_count": 9,
   "metadata": {
    "tags": []
   },
   "outputs": [
    {
     "name": "stdout",
     "output_type": "stream",
     "text": [
      "1. Bosnia and Herzegovina/Yugoslavia (former)\n",
      "2. Colombia\n",
      "3. Philippines/Mindanao\n",
      "4. Syria\n",
      "5. Nepal\n",
      "6. South Sudan\n",
      "7. Yemen\n",
      "8. South Sudan/Sudan\n",
      "9. Croatia/Yugoslavia (former)\n",
      "10. Central African Republic\n"
     ]
    }
   ],
   "source": [
    "top_10_conflicts_countries = df['Con'].value_counts(sort=True).iloc[:10].index\n",
    "for i, country in enumerate(top_10_conflicts_countries, 1):\n",
    "    print(f'{i}. {country}')"
   ]
  },
  {
   "cell_type": "code",
   "execution_count": 10,
   "metadata": {},
   "outputs": [
    {
     "data": {
      "image/png": "[encoded data removed]",
      "text/plain": [
       "<Figure size 1080x720 with 1 Axes>"
      ]
     },
     "metadata": {
      "needs_background": "light"
     },
     "output_type": "display_data"
    }
   ],
   "source": [
    "fig = plt.figure(figsize=(15, 10))\n",
    "\n",
    "ax = sns.countplot(y=df['Con'].loc[df['Con'].isin(top_10_conflicts_countries)],\n",
    "                 order=df['Con'].value_counts().index[:10], orient='h')\n",
    "\n",
    "plt.show()"
   ]
  },
  {
   "cell_type": "markdown",
   "metadata": {},
   "source": [
    "Vemos la variación del número de conflictos durante los años."
   ]
  },
  {
   "cell_type": "code",
   "execution_count": 11,
   "metadata": {},
   "outputs": [
    {
     "data": {
      "text/plain": [
       "count    31.000000\n",
       "mean     60.258065\n",
       "std      19.834259\n",
       "min       8.000000\n",
       "25%      46.500000\n",
       "50%      63.000000\n",
       "75%      74.000000\n",
       "max      93.000000\n",
       "Name: year, dtype: float64"
      ]
     },
     "execution_count": 11,
     "metadata": {},
     "output_type": "execute_result"
    }
   ],
   "source": [
    "# Convertimos la variable Dat en tiempo\n",
    "df['Dat'] = pd.to_datetime(df['Dat'])\n",
    "\n",
    "# generamos una nueva columna que contenga el año\n",
    "df['year'] = pd.DatetimeIndex(df['Dat']).year\n",
    "\n",
    "df['year'].value_counts().describe()\n",
    "\n",
    "\n",
    "# sns.displot(x=df['year'].value_counts(), kind=\"kde\")"
   ]
  },
  {
   "cell_type": "code",
   "execution_count": 12,
   "metadata": {},
   "outputs": [
    {
     "data": {
      "image/png": "[encoded data removed]",
      "text/plain": [
       "<Figure size 360x360 with 1 Axes>"
      ]
     },
     "metadata": {
      "needs_background": "light"
     },
     "output_type": "display_data"
    }
   ],
   "source": [
    "sns.displot(x=df['year'].value_counts(), kind=\"kde\")\n",
    "\n",
    "plt.show()"
   ]
  },
  {
   "cell_type": "code",
   "execution_count": 13,
   "metadata": {},
   "outputs": [
    {
     "data": {
      "text/plain": [
       "<seaborn.axisgrid.FacetGrid at 0x281df568c40>"
      ]
     },
     "execution_count": 13,
     "metadata": {},
     "output_type": "execute_result"
    },
    {
     "data": {
      "image/png": "[encoded data removed]",
      "text/plain": [
       "<Figure size 360x360 with 1 Axes>"
      ]
     },
     "metadata": {
      "needs_background": "light"
     },
     "output_type": "display_data"
    }
   ],
   "source": [
    "sns.displot(x=df['N_characters'], kind='kde')"
   ]
  },
  {
   "cell_type": "markdown",
   "metadata": {},
   "source": [
    "Se prueba un test de normalidad sobre los datos."
   ]
  },
  {
   "cell_type": "code",
   "execution_count": 14,
   "metadata": {
    "tags": []
   },
   "outputs": [
    {
     "name": "stdout",
     "output_type": "stream",
     "text": [
      "The null hypothesis cannot be rejected\n"
     ]
    }
   ],
   "source": [
    "from scipy import stats\n",
    "\n",
    "k2, p = stats.normaltest(df['year'].value_counts())\n",
    "alpha = .05\n",
    "\n",
    "if p < alpha:  # null hypothesis: x comes from a normal distribution\n",
    "    print(\"The null hypothesis can be rejected\")\n",
    "else:\n",
    "    print(\"The null hypothesis cannot be rejected\")"
   ]
  },
  {
   "cell_type": "code",
   "execution_count": 15,
   "metadata": {},
   "outputs": [
    {
     "data": {
      "image/png": "[encoded data removed]",
      "text/plain": [
       "<Figure size 1080x720 with 1 Axes>"
      ]
     },
     "metadata": {
      "needs_background": "light"
     },
     "output_type": "display_data"
    }
   ],
   "source": [
    "fig = plt.figure(figsize=(15, 10))\n",
    "\n",
    "ax = sns.lineplot(x=np.sort(df['year'].unique()), y=df['year'].value_counts().sort_index())\n",
    "\n",
    "ax.set_xlabel('Tiempo')\n",
    "ax.set_ylabel('Número de acuerdos')\n",
    "\n",
    "plt.show()"
   ]
  },
  {
   "cell_type": "markdown",
   "metadata": {},
   "source": [
    "La base de datos recoge diferentes acuerdos de paz durante varios añosm vemos que todos los años se ha generado al menos un acuerdo y existen algunos años cuando se han generado más.\n",
    "\n",
    "Otro dato de interés podría ser encontrar que tipos de conflictos son los más comunes."
   ]
  },
  {
   "cell_type": "code",
   "execution_count": 16,
   "metadata": {
    "tags": []
   },
   "outputs": [
    {
     "name": "stdout",
     "output_type": "stream",
     "text": [
      "Government/territory: 45.13 %\n",
      "Government: 34.96 %\n",
      "Inter-group: 13.97 %\n",
      "Territory: 5.84 %\n",
      "Other: 0.11 %\n"
     ]
    }
   ],
   "source": [
    "my_iter = zip(df['Contp'].value_counts().index, round(df['Contp'].value_counts()/df.shape[0] * 100, 2))\n",
    "for contp, row in my_iter:\n",
    "    print(f'{contp}: {row} %')"
   ]
  },
  {
   "cell_type": "markdown",
   "metadata": {},
   "source": [
    "Desde mi punto de vista, un país mejora su calidad de vida junto a sus derechos socio-económicos y la igualdad de género. Por lo tanto, se va a analizar cuantos de estos acuerdos contienen en el estos derechos como puntos del acuerdo. \n",
    "\n",
    "Las preguntas que se van a responder son los siguientes? \n",
    "\n",
    "- ¿Cuántos acuerdos contienen derechos socio-económicos? \n",
    "- ¿Cómo se distribuyen los diferentes tipos en los datos?\n",
    "- ¿Cuántos acuerdos contienen referencias a género?\n",
    "- ¿Qué tipo de acuerdos en referencia en al género?\n",
    "\n",
    "Para responder a estas preguntas se aplicarán las siguientes variables del conjunto de datos.\n",
    "\n",
    "- HrSec: Derechos socio-económicos, es una variable dictonómica dónde toma los valores 0 ó 1, dónde 0 representa si no se nombran este tipo de derechos en los acuerdos y 1 lo contrario.\n",
    "\n",
    "En el caso que la variable `HrSec` sea 1 existen otras subvariables que nos indican el tipo de derechos socio-económicos que nombra dicho acuerdo. Las variables son las siguientes y de la misma forma toman valores entre 0 ó 1.\n",
    "\n",
    "- SerProp: Propiedad\n",
    "- SerWork: Trabajo\n",
    "- SerHeal: Salud\n",
    "- SerEdu: Educación\n",
    "- SerStdl: Estandár de vida adecuado\n",
    "- SerShel: Refugio/Vivienda\n",
    "- SerSs: Seguridad Social\n",
    "- SerCult: Vida cultural\n",
    "- SerOth: Otros\n",
    "\n",
    "En referencia al género, las variables son:\n",
    "\n",
    "- GeWom: Si el valor de esta variable es 1, el acuerdo recoge alguna referencia a las mujeres, niñas y sus derechos. En caso contrario, 0.\n",
    "- GeMe: Si el valor de esta variable es 1, el acuerdo recoge alguna referencia a los hombres o niños. En caso contrario, 0. Esta variable además se divide en las siguientes variables. \n",
    "    - GeMeNu: Reducción de la neutralidad de género. Esta variable toma el valor 1 en el caso que en el acuerdo exista alguna palaba referida ambos géneros cómo \"mujeres y hombres\", \"niñas y niños\", \"hijas e hijos\". De lo contrario, toma el valor 0.\n",
    "    - GeMeOth: Otros. Toma el valor de 1 si incluye disposiciones relacionadas con los hombres que van más allá del lenguaje neutral en cuanto al género. De lo contrario, toma valor 0.\n",
    "- GeLgbti: Toma el valor 1 si el acuerdo nombra algo positivo sobre el colectivo LGTBI. Si no nombra nada de este colectivo, toma el valor 0.\n",
    "- GeLgbtiNeg: Toma el valor 1 si el acuerdo nombra algo positivo sobre el colectivo LGTBI. Si no nombra nada de este colectivo, toma el valor 0. \n",
    "- GeFa: Toma el valor 1 si el acuerdo nombra algún tipo de incidencia sobre específicos miembros de la familia. De lo contrario, toma el valor 0.\n"
   ]
  },
  {
   "cell_type": "code",
   "execution_count": 17,
   "metadata": {},
   "outputs": [
    {
     "data": {
      "text/plain": [
       "0    1721\n",
       "1     147\n",
       "Name: HrSec, dtype: int64"
      ]
     },
     "execution_count": 17,
     "metadata": {},
     "output_type": "execute_result"
    }
   ],
   "source": [
    "df['HrSec'].value_counts()"
   ]
  },
  {
   "cell_type": "code",
   "execution_count": 19,
   "metadata": {},
   "outputs": [
    {
     "name": "stdout",
     "output_type": "stream",
     "text": [
      "{'SerProp': ' Propiedad', 'SerWork': ' Trabajo', 'SerHeal': ' Salud', 'SerEdu': ' Educación', 'SerStdl': ' Estandár de vida adecuado', 'SerShel': ' Refugio/Vivienda', 'SerSs': ' Seguridad Social', 'SerCult': ' Vida cultural', 'SerOth': ' Otros'}\n"
     ]
    }
   ],
   "source": [
    "text_var = '''SerProp: Propiedad\n",
    "SerWork: Trabajo\n",
    "SerHeal: Salud\n",
    "SerEdu: Educación\n",
    "SerStdl: Estandár de vida adecuado\n",
    "SerShel: Refugio/Vivienda\n",
    "SerSs: Seguridad Social\n",
    "SerCult: Vida cultural\n",
    "SerOth: Otros'''\n",
    "mapping = {column.split(':')[0]: column.split(':')[1] for column in text_var.splitlines()}\n",
    "mapping = {\n",
    "    'SerProp': ' Propiedad',\n",
    "    'SerWork': ' Trabajo',\n",
    "    'SerHeal': ' Salud',\n",
    "    'SerEdu': ' Educación',\n",
    "    'SerStdl': ' Estandár de vida adecuado',\n",
    "    'SerShel': ' Refugio/Vivienda',\n",
    "    'SerSs': ' Seguridad Social',\n",
    "    'SerCult': ' Vida cultural',\n",
    "    'SerOth': ' Otros'\n",
    "}\n",
    "columns = [v for v in mapping.values()]\n",
    "print(mapping)"
   ]
  },
  {
   "cell_type": "code",
   "execution_count": 17,
   "metadata": {},
   "outputs": [
    {
     "data": {
      "text/plain": [
       " Propiedad                    category\n",
       " Trabajo                      category\n",
       " Salud                        category\n",
       " Educación                    category\n",
       " Estandár de vida adecuado    category\n",
       " Refugio/Vivienda             category\n",
       " Seguridad Social             category\n",
       " Vida cultural                category\n",
       " Otros                        category\n",
       "dtype: object"
      ]
     },
     "execution_count": 17,
     "metadata": {},
     "output_type": "execute_result"
    }
   ],
   "source": [
    "df_social_human_rights = df.loc[df['HrSec'] == 1]\n",
    "\n",
    "df_social_human_rights.rename(columns=mapping, inplace=True)\n",
    "\n",
    "df_social_human_rights_filtered = df_social_human_rights[columns]\n",
    "df_social_human_rights_filtered.dtypes"
   ]
  },
  {
   "cell_type": "code",
   "execution_count": 18,
   "metadata": {},
   "outputs": [
    {
     "data": {
      "text/plain": [
       "0    92.130621\n",
       "1     7.869379\n",
       "Name: HrSec, dtype: float64"
      ]
     },
     "execution_count": 18,
     "metadata": {},
     "output_type": "execute_result"
    }
   ],
   "source": [
    "df['HrSec'].value_counts()/df.shape[0] * 100"
   ]
  },
  {
   "cell_type": "markdown",
   "metadata": {},
   "source": [
    "A continuación, calculamos como se distriubye el tipo de acuerdos que mencionan algo sobre la seguridad social."
   ]
  },
  {
   "cell_type": "code",
   "execution_count": 40,
   "metadata": {
    "tags": []
   },
   "outputs": [
    {
     "name": "stdout",
     "output_type": "stream",
     "text": [
      "Propiedad: 57.14\n",
      "Trabajo: 34.01\n",
      "Salud: 23.13\n",
      "Educación: 34.69\n",
      "Estandár de vida adecuado: 19.05\n",
      "Refugio/Vivienda: 17.01\n",
      "Seguridad Social: 17.01\n",
      "Vida cultural: 35.37\n",
      "Otros: 28.57\n"
     ]
    }
   ],
   "source": [
    "results = []\n",
    "for column in columns:\n",
    "    count = df_social_human_rights_filtered[column].loc[df_social_human_rights_filtered[column] == 1].shape[0]\n",
    "    results.append((column, count))\n",
    "\n",
    "for result in results:\n",
    "    # print(result[1])\n",
    "    print(f'{result[0].strip()}: {round(result[1]/df_social_human_rights_filtered.shape[0] * 100, 2)}')"
   ]
  },
  {
   "cell_type": "markdown",
   "metadata": {},
   "source": [
    "¿Cuántos acuerdos contienen mencionas a género? ¿Con qué tipo y cuál predomina más?"
   ]
  },
  {
   "cell_type": "code",
   "execution_count": 92,
   "metadata": {
    "tags": []
   },
   "outputs": [
    {
     "name": "stdout",
     "output_type": "stream",
     "text": [
      "Genders mentions: 25.05 %\n"
     ]
    }
   ],
   "source": [
    "gender_columns = [c for c in df.columns if c.startswith('Ge')]\n",
    "df_gender_mentions = df[gender_columns]\n",
    "counter_genders = 0\n",
    "for row in df_gender_mentions.to_dict(orient='records'):\n",
    "    if 1 in row.values():\n",
    "        counter_genders += 1\n",
    "\n",
    "print(f'Genders mentions: {round(count/df_gender_mentions.shape[0] * 100, 2)} %')"
   ]
  },
  {
   "cell_type": "code",
   "execution_count": 103,
   "metadata": {},
   "outputs": [
    {
     "data": {
      "text/html": [
       "<div>\n",
       "<style scoped>\n",
       "    .dataframe tbody tr th:only-of-type {\n",
       "        vertical-align: middle;\n",
       "    }\n",
       "\n",
       "    .dataframe tbody tr th {\n",
       "        vertical-align: top;\n",
       "    }\n",
       "\n",
       "    .dataframe thead th {\n",
       "        text-align: right;\n",
       "    }\n",
       "</style>\n",
       "<table border=\"1\" class=\"dataframe\">\n",
       "  <thead>\n",
       "    <tr style=\"text-align: right;\">\n",
       "      <th></th>\n",
       "      <th>GeWom</th>\n",
       "      <th>GeMe</th>\n",
       "      <th>GeMeNu</th>\n",
       "      <th>GeMeOth</th>\n",
       "      <th>GeLgbti</th>\n",
       "      <th>GeLgbtiPos</th>\n",
       "      <th>GeLgbtiNeg</th>\n",
       "      <th>GeFa</th>\n",
       "      <th>mention_to_gender</th>\n",
       "    </tr>\n",
       "  </thead>\n",
       "  <tbody>\n",
       "    <tr>\n",
       "      <th>0</th>\n",
       "      <td>1</td>\n",
       "      <td>0</td>\n",
       "      <td>0</td>\n",
       "      <td>0</td>\n",
       "      <td>0</td>\n",
       "      <td>0</td>\n",
       "      <td>0</td>\n",
       "      <td>0</td>\n",
       "      <td>1</td>\n",
       "    </tr>\n",
       "    <tr>\n",
       "      <th>1</th>\n",
       "      <td>1</td>\n",
       "      <td>0</td>\n",
       "      <td>0</td>\n",
       "      <td>0</td>\n",
       "      <td>0</td>\n",
       "      <td>0</td>\n",
       "      <td>0</td>\n",
       "      <td>0</td>\n",
       "      <td>1</td>\n",
       "    </tr>\n",
       "    <tr>\n",
       "      <th>2</th>\n",
       "      <td>1</td>\n",
       "      <td>0</td>\n",
       "      <td>0</td>\n",
       "      <td>0</td>\n",
       "      <td>0</td>\n",
       "      <td>0</td>\n",
       "      <td>0</td>\n",
       "      <td>0</td>\n",
       "      <td>1</td>\n",
       "    </tr>\n",
       "    <tr>\n",
       "      <th>3</th>\n",
       "      <td>1</td>\n",
       "      <td>1</td>\n",
       "      <td>1</td>\n",
       "      <td>0</td>\n",
       "      <td>0</td>\n",
       "      <td>0</td>\n",
       "      <td>0</td>\n",
       "      <td>0</td>\n",
       "      <td>3</td>\n",
       "    </tr>\n",
       "    <tr>\n",
       "      <th>4</th>\n",
       "      <td>1</td>\n",
       "      <td>1</td>\n",
       "      <td>1</td>\n",
       "      <td>0</td>\n",
       "      <td>0</td>\n",
       "      <td>0</td>\n",
       "      <td>0</td>\n",
       "      <td>0</td>\n",
       "      <td>3</td>\n",
       "    </tr>\n",
       "  </tbody>\n",
       "</table>\n",
       "</div>"
      ],
      "text/plain": [
       "  GeWom GeMe GeMeNu GeMeOth GeLgbti GeLgbtiPos GeLgbtiNeg GeFa  \\\n",
       "0     1    0      0       0       0          0          0    0   \n",
       "1     1    0      0       0       0          0          0    0   \n",
       "2     1    0      0       0       0          0          0    0   \n",
       "3     1    1      1       0       0          0          0    0   \n",
       "4     1    1      1       0       0          0          0    0   \n",
       "\n",
       "   mention_to_gender  \n",
       "0                  1  \n",
       "1                  1  \n",
       "2                  1  \n",
       "3                  3  \n",
       "4                  3  "
      ]
     },
     "execution_count": 103,
     "metadata": {},
     "output_type": "execute_result"
    }
   ],
   "source": [
    "df_gender_mentions['mention_to_gender'] = df_gender_mentions[gender_columns].astype(int).sum(axis=1)\n",
    "mask = df_gender_mentions['mention_to_gender'] != 0\n",
    "df_gender_mentions_filtered = df_gender_mentions[mask]\n",
    "df_gender_mentions_filtered.head()"
   ]
  },
  {
   "cell_type": "code",
   "execution_count": 104,
   "metadata": {
    "tags": []
   },
   "outputs": [
    {
     "name": "stdout",
     "output_type": "stream",
     "text": [
      "GeWom: 79.27\n",
      "GeMe: 20.3\n",
      "GeMeNu: 17.74\n",
      "GeMeOth: 2.35\n",
      "GeLgbti: 2.35\n",
      "GeLgbtiPos: 1.71\n",
      "GeLgbtiNeg: 0.64\n",
      "GeFa: 41.24\n"
     ]
    }
   ],
   "source": [
    "results = []\n",
    "count = 0\n",
    "for column in gender_columns:\n",
    "    count = df_gender_mentions[column].loc[df_gender_mentions[column] == 1].shape[0]\n",
    "    results.append((column, count))\n",
    "\n",
    "for result in results:\n",
    "    # print(result[1])\n",
    "    print(f'{result[0].strip()}: {round(result[1]/df_gender_mentions_filtered.shape[0] * 100, 2)}')"
   ]
  },
  {
   "cell_type": "code",
   "execution_count": null,
   "metadata": {},
   "outputs": [],
   "source": []
  }
 ],
 "metadata": {
  "kernelspec": {
   "display_name": "Python 3",
   "language": "python",
   "name": "python3"
  },
  "language_info": {
   "codemirror_mode": {
    "name": "ipython",
    "version": 3
   },
   "file_extension": ".py",
   "mimetype": "text/x-python",
   "name": "python",
   "nbconvert_exporter": "python",
   "pygments_lexer": "ipython3",
   "version": "3.8.5"
  }
 },
 "nbformat": 4,
 "nbformat_minor": 4
}
